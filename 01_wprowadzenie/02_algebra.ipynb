{
  "nbformat": 4,
  "nbformat_minor": 0,
  "metadata": {
    "colab": {
      "provenance": [],
      "authorship_tag": "ABX9TyMdeQrpWsOLdxHL2+Ow64m/",
      "include_colab_link": true
    },
    "kernelspec": {
      "name": "python3",
      "display_name": "Python 3"
    },
    "language_info": {
      "name": "python"
    }
  },
  "cells": [
    {
      "cell_type": "markdown",
      "metadata": {
        "id": "view-in-github",
        "colab_type": "text"
      },
      "source": [
        "<a href=\"https://colab.research.google.com/github/szymek404/data-sciene-bootcamp/blob/main/01_wprowadzenie/02_algebra.ipynb\" target=\"_parent\"><img src=\"https://colab.research.google.com/assets/colab-badge.svg\" alt=\"Open In Colab\"/></a>"
      ]
    },
    {
      "cell_type": "code",
      "execution_count": 5,
      "metadata": {
        "colab": {
          "base_uri": "https://localhost:8080/"
        },
        "id": "Io7iftE45-JL",
        "outputId": "701962d5-885d-4e6a-a576-3e4559607a67"
      },
      "outputs": [
        {
          "output_type": "execute_result",
          "data": {
            "text/plain": [
              "array([-1,  4])"
            ]
          },
          "metadata": {},
          "execution_count": 5
        }
      ],
      "source": [
        "import numpy as np\n",
        "#tworzymy wektor\n",
        "v1= np.array([-1,4])\n",
        "v1"
      ]
    },
    {
      "cell_type": "code",
      "source": [
        "np.linalg.norm(v1) # obliczamy normę/długość wektora"
      ],
      "metadata": {
        "colab": {
          "base_uri": "https://localhost:8080/"
        },
        "id": "XHj7vKbD7F-r",
        "outputId": "e3404112-1aab-4545-e26f-149be0022c4d"
      },
      "execution_count": 6,
      "outputs": [
        {
          "output_type": "execute_result",
          "data": {
            "text/plain": [
              "4.123105625617661"
            ]
          },
          "metadata": {},
          "execution_count": 6
        }
      ]
    },
    {
      "cell_type": "code",
      "source": [
        "#liczymy długość wektroa w przedstrzelni R^n (norma euklidesowa)\n",
        "v2=np.array([-10,10,13])\n",
        "np.linalg.norm(v2 ) # długość wektora  w przestrzeni R3 maszynowe uczenie używa kilka set przestrzeni"
      ],
      "metadata": {
        "colab": {
          "base_uri": "https://localhost:8080/"
        },
        "id": "Fuv1ruUj7NTC",
        "outputId": "05d5d05a-5f13-49a2-e4e1-864df39a7f67"
      },
      "execution_count": 7,
      "outputs": [
        {
          "output_type": "execute_result",
          "data": {
            "text/plain": [
              "19.209372712298546"
            ]
          },
          "metadata": {},
          "execution_count": 7
        }
      ]
    },
    {
      "cell_type": "code",
      "source": [
        "#odległość dwóch punktów \n",
        "P= np.array([3,0])\n",
        "Q= np.array([0,4])\n",
        "np.linalg.norm(P -Q)"
      ],
      "metadata": {
        "colab": {
          "base_uri": "https://localhost:8080/"
        },
        "id": "Shf2BHxC7pBC",
        "outputId": "90acc99a-21d4-4d08-8c9d-f452981b51cf"
      },
      "execution_count": 9,
      "outputs": [
        {
          "output_type": "execute_result",
          "data": {
            "text/plain": [
              "5.0"
            ]
          },
          "metadata": {},
          "execution_count": 9
        }
      ]
    },
    {
      "cell_type": "code",
      "source": [
        "#odległosć w przestrzeni R^n\n",
        "P= np.array([3,0, 7])\n",
        "Q= np.array([0,4, 1])\n",
        "np.linalg.norm(P-Q)\n"
      ],
      "metadata": {
        "colab": {
          "base_uri": "https://localhost:8080/"
        },
        "id": "0X-HHSY_8NXK",
        "outputId": "bdd7e448-16d2-488e-b26e-fa222e0f706d"
      },
      "execution_count": 11,
      "outputs": [
        {
          "output_type": "execute_result",
          "data": {
            "text/plain": [
              "7.810249675906654"
            ]
          },
          "metadata": {},
          "execution_count": 11
        }
      ]
    },
    {
      "cell_type": "code",
      "source": [
        "#mnożenie macierzy\n",
        "# wymiary macierzy  A m x x- m wierszy i n kolumn, oraz mamy macierz B n x p, C= m x p ->>> C = A X B\n",
        "#Aby pomnożyc dwie macierze LICZBA KOLUMN LEWEJ Macierzyt musi być TA SAMA co w PRAWEJ"
      ],
      "metadata": {
        "id": "-is1qVs98luz"
      },
      "execution_count": 12,
      "outputs": []
    },
    {
      "cell_type": "code",
      "source": [
        "X = np.array([[5,3], [3,9]])\n",
        "Y = np.array([[1,3,4], [1,4,6]])\n",
        "print(X,'\\n')\n",
        "print(Y)"
      ],
      "metadata": {
        "colab": {
          "base_uri": "https://localhost:8080/"
        },
        "id": "iIfa2e1f801j",
        "outputId": "dd0c26f1-1aff-489a-a113-613645aba1ca"
      },
      "execution_count": 23,
      "outputs": [
        {
          "output_type": "stream",
          "name": "stdout",
          "text": [
            "[[5 3]\n",
            " [3 9]] \n",
            "\n",
            "[[1 3 4]\n",
            " [1 4 6]]\n"
          ]
        }
      ]
    },
    {
      "cell_type": "code",
      "source": [
        "Z= np.dot(X,Y)\n",
        "Z"
      ],
      "metadata": {
        "colab": {
          "base_uri": "https://localhost:8080/"
        },
        "id": "M7hOocMT9XEC",
        "outputId": "29110614-cad2-490c-e922-7f495e55a31c"
      },
      "execution_count": 27,
      "outputs": [
        {
          "output_type": "execute_result",
          "data": {
            "text/plain": [
              "array([[ 8, 27, 38],\n",
              "       [12, 45, 66]])"
            ]
          },
          "metadata": {},
          "execution_count": 27
        }
      ]
    },
    {
      "cell_type": "code",
      "source": [
        "Z.shape"
      ],
      "metadata": {
        "colab": {
          "base_uri": "https://localhost:8080/"
        },
        "id": "bKHFjBqk9lXZ",
        "outputId": "e43b39fe-2e39-479f-e12f-6ae0e04a0aa4"
      },
      "execution_count": 28,
      "outputs": [
        {
          "output_type": "execute_result",
          "data": {
            "text/plain": [
              "(2, 3)"
            ]
          },
          "metadata": {},
          "execution_count": 28
        }
      ]
    },
    {
      "cell_type": "code",
      "source": [
        "X = np.array([[5,3,1], [3,9,1]])\n",
        "Y = np.array([[1,3,4], [1,4,6], [1,4,5]])\n",
        "print(X,'\\n')\n",
        "print(Y)"
      ],
      "metadata": {
        "colab": {
          "base_uri": "https://localhost:8080/"
        },
        "id": "B6DAp0_X9pWx",
        "outputId": "abef7504-70a7-4f61-abc9-04ee95a12ebe"
      },
      "execution_count": 31,
      "outputs": [
        {
          "output_type": "stream",
          "name": "stdout",
          "text": [
            "[[5 3 1]\n",
            " [3 9 1]] \n",
            "\n",
            "[[1 3 4]\n",
            " [1 4 6]\n",
            " [1 4 5]]\n"
          ]
        }
      ]
    },
    {
      "cell_type": "code",
      "source": [
        "np.dot(X,Y)"
      ],
      "metadata": {
        "colab": {
          "base_uri": "https://localhost:8080/"
        },
        "id": "MONWknaP-ILx",
        "outputId": "bf5e7d2e-03a5-4913-ed5a-9992f09f459d"
      },
      "execution_count": 32,
      "outputs": [
        {
          "output_type": "execute_result",
          "data": {
            "text/plain": [
              "array([[ 9, 31, 43],\n",
              "       [13, 49, 71]])"
            ]
          },
          "metadata": {},
          "execution_count": 32
        }
      ]
    },
    {
      "cell_type": "code",
      "source": [
        "# WYZNACZNIKI MACIERZY \n",
        "B = np.array([[2,4], [-1,3]])\n",
        "\n",
        "np.linalg.det(B) #linalg- LINELAR ALGERBA\n"
      ],
      "metadata": {
        "colab": {
          "base_uri": "https://localhost:8080/"
        },
        "id": "veNMGxiU-RXa",
        "outputId": "984d8071-e2b9-4295-d1f0-2a0bb9e443d5"
      },
      "execution_count": 35,
      "outputs": [
        {
          "output_type": "execute_result",
          "data": {
            "text/plain": [
              "9.999999999999998"
            ]
          },
          "metadata": {},
          "execution_count": 35
        }
      ]
    },
    {
      "cell_type": "code",
      "source": [
        "#żebv zaokrąglić\n",
        "round(np.linalg.det(B))"
      ],
      "metadata": {
        "colab": {
          "base_uri": "https://localhost:8080/"
        },
        "id": "pWhvUea-_O3K",
        "outputId": "803b73aa-03ba-40f2-f53b-1c3e689bdb55"
      },
      "execution_count": 36,
      "outputs": [
        {
          "output_type": "execute_result",
          "data": {
            "text/plain": [
              "10"
            ]
          },
          "metadata": {},
          "execution_count": 36
        }
      ]
    },
    {
      "cell_type": "code",
      "source": [
        "#slad macierzy, jesli mamy macierz kwadrotową to jest to suma elementów na przekątnej\n",
        "B = np.array([[2,4], [-1,3]])\n",
        "np.trace(B) # zwraca slad"
      ],
      "metadata": {
        "colab": {
          "base_uri": "https://localhost:8080/"
        },
        "id": "ESmyDGFg_n05",
        "outputId": "69159854-2ad1-41dc-b7be-551fb157751e"
      },
      "execution_count": 37,
      "outputs": [
        {
          "output_type": "execute_result",
          "data": {
            "text/plain": [
              "5"
            ]
          },
          "metadata": {},
          "execution_count": 37
        }
      ]
    },
    {
      "cell_type": "code",
      "source": [
        "#macierz jednostkowa to macierz KWADRATOWA, której wspólczyniki na przekątnej są równe 1 \n",
        "np.eye(5, dtype='int') #buduje macierz jednostkowąp podajemy tylko wymiar"
      ],
      "metadata": {
        "colab": {
          "base_uri": "https://localhost:8080/"
        },
        "id": "ee4_2uiP_2tB",
        "outputId": "9b8c9cc4-7d0b-4916-ce4e-d55bce51d0cd"
      },
      "execution_count": 38,
      "outputs": [
        {
          "output_type": "execute_result",
          "data": {
            "text/plain": [
              "array([[1, 0, 0, 0, 0],\n",
              "       [0, 1, 0, 0, 0],\n",
              "       [0, 0, 1, 0, 0],\n",
              "       [0, 0, 0, 1, 0],\n",
              "       [0, 0, 0, 0, 1]])"
            ]
          },
          "metadata": {},
          "execution_count": 38
        }
      ]
    },
    {
      "cell_type": "code",
      "source": [
        "#Macierz odwrotana, MUSI BYĆ KWADRATOWA< taka macierz  istnieje gdy AB = BA =I (czyli gdy jest jakaś macierz przez któa pomnożymy to otrezymujemy jednostkową)\n",
        "A= np.array([[2,4],[-1,3]])\n",
        "A\n",
        "B= np.linalg.inv(A) #linear algebra inverse- tworzy macierz odwrtoną\n",
        "\n",
        "np.set_printoptions(precision=4, suppress= True) # to nam ustawia do 4 miejsc po przecinku i nie trzeba ogładac noracji\n",
        "I = np.dot(A, B)\n",
        "I"
      ],
      "metadata": {
        "colab": {
          "base_uri": "https://localhost:8080/"
        },
        "id": "aX623hZWAFey",
        "outputId": "443ac6d0-2de0-4f0f-c475-cc5f0ca14992"
      },
      "execution_count": 47,
      "outputs": [
        {
          "output_type": "execute_result",
          "data": {
            "text/plain": [
              "array([[1., 0.],\n",
              "       [0., 1.]])"
            ]
          },
          "metadata": {},
          "execution_count": 47
        }
      ]
    },
    {
      "cell_type": "code",
      "source": [
        "#Transponowanie - zamienieniamy kolumny na wiersze, wiersze na kolumny\n",
        "print(A,'\\n')\n",
        "A.T"
      ],
      "metadata": {
        "colab": {
          "base_uri": "https://localhost:8080/"
        },
        "id": "3ByZSWcHAYqy",
        "outputId": "6f6793d4-6df8-4f4a-9a1e-87ceef90fed7"
      },
      "execution_count": 52,
      "outputs": [
        {
          "output_type": "stream",
          "name": "stdout",
          "text": [
            "[[ 2  4]\n",
            " [-1  3]] \n",
            "\n"
          ]
        },
        {
          "output_type": "execute_result",
          "data": {
            "text/plain": [
              "array([[ 2, -1],\n",
              "       [ 4,  3]])"
            ]
          },
          "metadata": {},
          "execution_count": 52
        }
      ]
    },
    {
      "cell_type": "code",
      "source": [
        "# ROZWIĄZYWANIE UKŁADÓW RÓWNAŃ\n",
        "#Jezeli macierz ukąłdu A jest kwadratowa (liczba niewiaodmych= liczb równań), to ozacza ze możemy zrobić \n",
        "# AX = B\n",
        "# A^-1AX = A^-1 B\n",
        "# X= A^-1 B -->> muismy nzaleść maierz odwrotną do macierzy równań i pomnożyć przez macierz wyrazów wolnych"
      ],
      "metadata": {
        "id": "RK0JRE_gBcF5"
      },
      "execution_count": 53,
      "outputs": []
    },
    {
      "cell_type": "code",
      "source": [
        "A = np.array([[2,4],[1,-1]])\n",
        "B= np.array([[10],[-1]])\n",
        "B"
      ],
      "metadata": {
        "colab": {
          "base_uri": "https://localhost:8080/"
        },
        "id": "iARzI-rTEt3x",
        "outputId": "df826578-3b19-4f7d-e8ef-53beee1d66db"
      },
      "execution_count": 55,
      "outputs": [
        {
          "output_type": "execute_result",
          "data": {
            "text/plain": [
              "array([[10],\n",
              "       [-1]])"
            ]
          },
          "metadata": {},
          "execution_count": 55
        }
      ]
    },
    {
      "cell_type": "code",
      "source": [
        "A_inv = np.linalg.inv(A)\n",
        "X= np.dot(A_inv, B)\n",
        "X"
      ],
      "metadata": {
        "colab": {
          "base_uri": "https://localhost:8080/"
        },
        "id": "QGVNojfGFGxR",
        "outputId": "f7c227a4-07db-40a3-c75d-9ef3ee07e335"
      },
      "execution_count": 57,
      "outputs": [
        {
          "output_type": "execute_result",
          "data": {
            "text/plain": [
              "array([[1.],\n",
              "       [2.]])"
            ]
          },
          "metadata": {},
          "execution_count": 57
        }
      ]
    },
    {
      "cell_type": "code",
      "source": [],
      "metadata": {
        "id": "VQDFz34ZFVmh"
      },
      "execution_count": null,
      "outputs": []
    }
  ]
}