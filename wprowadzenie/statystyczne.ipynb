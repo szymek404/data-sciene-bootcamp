{
  "nbformat": 4,
  "nbformat_minor": 0,
  "metadata": {
    "colab": {
      "provenance": [],
      "authorship_tag": "ABX9TyNV8qY8G1PR6l5AMwRlJB1O",
      "include_colab_link": true
    },
    "kernelspec": {
      "name": "python3",
      "display_name": "Python 3"
    },
    "language_info": {
      "name": "python"
    }
  },
  "cells": [
    {
      "cell_type": "markdown",
      "metadata": {
        "id": "view-in-github",
        "colab_type": "text"
      },
      "source": [
        "<a href=\"https://colab.research.google.com/github/szymek404/data-sciene-bootcamp/blob/main/wprowadzenie/statystyczne.ipynb\" target=\"_parent\"><img src=\"https://colab.research.google.com/assets/colab-badge.svg\" alt=\"Open In Colab\"/></a>"
      ]
    },
    {
      "cell_type": "code",
      "execution_count": 1,
      "metadata": {
        "id": "iTDWCGFsF1fQ"
      },
      "outputs": [],
      "source": [
        "import numpy as np"
      ]
    },
    {
      "cell_type": "code",
      "source": [
        "#funkcje statystyczne \n",
        "price = np.array([[2.4, 2.8,1.9, 2.6, 100 ],\n",
        "                 [2.5, 3, 1.7 ,2.2, 200],\n",
        "                 [2.2, 3.4,2.2 ,3.2, 150]])\n",
        "print(price)"
      ],
      "metadata": {
        "colab": {
          "base_uri": "https://localhost:8080/"
        },
        "id": "NlJlTqJgF32h",
        "outputId": "6470cf6e-52a6-43d0-8d24-63f0431fe71b"
      },
      "execution_count": 5,
      "outputs": [
        {
          "output_type": "stream",
          "name": "stdout",
          "text": [
            "[[  2.4   2.8   1.9   2.6 100. ]\n",
            " [  2.5   3.    1.7   2.2 200. ]\n",
            " [  2.2   3.4   2.2   3.2 150. ]]\n"
          ]
        }
      ]
    },
    {
      "cell_type": "code",
      "source": [
        "#chemy pokazać funkcje sum\n",
        "price.sum() #suma wszystkich elementów"
      ],
      "metadata": {
        "colab": {
          "base_uri": "https://localhost:8080/"
        },
        "id": "ilS6jbpzGUmB",
        "outputId": "b2bc4597-d981-47a5-f738-705377dc7b20"
      },
      "execution_count": 6,
      "outputs": [
        {
          "output_type": "execute_result",
          "data": {
            "text/plain": [
              "480.09999999999997"
            ]
          },
          "metadata": {},
          "execution_count": 6
        }
      ]
    },
    {
      "cell_type": "code",
      "source": [
        "#chgemy policzyc sume w kolumnie lub w wierszy\n",
        "price.sum(axis=0) # gdy axis jest na o otrzymujemy sume poszególnych kolumn"
      ],
      "metadata": {
        "colab": {
          "base_uri": "https://localhost:8080/"
        },
        "id": "Wi2k1gn4GlEJ",
        "outputId": "974de303-b75a-48ef-96ea-5f833ff9805e"
      },
      "execution_count": 7,
      "outputs": [
        {
          "output_type": "execute_result",
          "data": {
            "text/plain": [
              "array([  7.1,   9.2,   5.8,   8. , 450. ])"
            ]
          },
          "metadata": {},
          "execution_count": 7
        }
      ]
    },
    {
      "cell_type": "code",
      "source": [
        "#gdy axis na 1 sumujemy po wiuerszach\n",
        "price.sum(axis=1)"
      ],
      "metadata": {
        "colab": {
          "base_uri": "https://localhost:8080/"
        },
        "id": "VDq0PIEHGt-5",
        "outputId": "d23e76ed-4ac5-4b0c-cc85-7e1133625778"
      },
      "execution_count": 8,
      "outputs": [
        {
          "output_type": "execute_result",
          "data": {
            "text/plain": [
              "array([109.7, 209.4, 161. ])"
            ]
          },
          "metadata": {},
          "execution_count": 8
        }
      ]
    },
    {
      "cell_type": "code",
      "source": [
        "np.min(price) #zwraca minimum\n"
      ],
      "metadata": {
        "colab": {
          "base_uri": "https://localhost:8080/"
        },
        "id": "yGddwWQYG3Vq",
        "outputId": "04e9ca61-7e09-4770-eca4-57cb82587609"
      },
      "execution_count": 9,
      "outputs": [
        {
          "output_type": "execute_result",
          "data": {
            "text/plain": [
              "1.7"
            ]
          },
          "metadata": {},
          "execution_count": 9
        }
      ]
    },
    {
      "cell_type": "code",
      "source": [
        "# minimuym z kokrentej kolyumny uzywamy acxis\n",
        "np.min(price, axis=0)"
      ],
      "metadata": {
        "colab": {
          "base_uri": "https://localhost:8080/"
        },
        "id": "WElmiHg7G_eA",
        "outputId": "d22e9182-cc16-49f9-e459-433000f0d21b"
      },
      "execution_count": 10,
      "outputs": [
        {
          "output_type": "execute_result",
          "data": {
            "text/plain": [
              "array([  2.2,   2.8,   1.7,   2.2, 100. ])"
            ]
          },
          "metadata": {},
          "execution_count": 10
        }
      ]
    },
    {
      "cell_type": "code",
      "source": [
        "# mediana \n",
        "np.median(price)"
      ],
      "metadata": {
        "colab": {
          "base_uri": "https://localhost:8080/"
        },
        "id": "eeRYjvZsHGMo",
        "outputId": "fac8e459-2a60-4ae6-d711-4ed4aaaf6ccf"
      },
      "execution_count": 12,
      "outputs": [
        {
          "output_type": "execute_result",
          "data": {
            "text/plain": [
              "2.6"
            ]
          },
          "metadata": {},
          "execution_count": 12
        }
      ]
    },
    {
      "cell_type": "code",
      "source": [
        "#srednia po kolumnach\n",
        "np.mean(price, axis =0)"
      ],
      "metadata": {
        "colab": {
          "base_uri": "https://localhost:8080/"
        },
        "id": "ZIKkVj3RHMT5",
        "outputId": "d0acb830-7052-44a2-f0d7-9d973d45115a"
      },
      "execution_count": 13,
      "outputs": [
        {
          "output_type": "execute_result",
          "data": {
            "text/plain": [
              "array([  2.36666667,   3.06666667,   1.93333333,   2.66666667,\n",
              "       150.        ])"
            ]
          },
          "metadata": {},
          "execution_count": 13
        }
      ]
    },
    {
      "cell_type": "code",
      "source": [
        "#odchylenie standratowe = standrt deviation\n",
        "np.std(price, axis= 0)"
      ],
      "metadata": {
        "colab": {
          "base_uri": "https://localhost:8080/"
        },
        "id": "k3M60UimHTeZ",
        "outputId": "7872114d-0d38-4e23-b7fc-9d94e8320d41"
      },
      "execution_count": 15,
      "outputs": [
        {
          "output_type": "execute_result",
          "data": {
            "text/plain": [
              "array([ 0.12472191,  0.24944383,  0.20548047,  0.41096093, 40.82482905])"
            ]
          },
          "metadata": {},
          "execution_count": 15
        }
      ]
    },
    {
      "cell_type": "code",
      "source": [
        "# wariancja -> var"
      ],
      "metadata": {
        "id": "swDYwEjWHaZJ"
      },
      "execution_count": 16,
      "outputs": []
    },
    {
      "cell_type": "code",
      "source": [
        "np.set_printoptions(precision= 2, suppress = True )\n",
        "np.var(price, axis=0)"
      ],
      "metadata": {
        "colab": {
          "base_uri": "https://localhost:8080/"
        },
        "id": "yn3r4ZjoHjYC",
        "outputId": "4545ee80-6a32-40bb-8a7f-d82ab493234e"
      },
      "execution_count": 20,
      "outputs": [
        {
          "output_type": "execute_result",
          "data": {
            "text/plain": [
              "array([   0.02,    0.06,    0.04,    0.17, 1666.67])"
            ]
          },
          "metadata": {},
          "execution_count": 20
        }
      ]
    },
    {
      "cell_type": "code",
      "source": [],
      "metadata": {
        "id": "323G4tJoHnG5"
      },
      "execution_count": null,
      "outputs": []
    }
  ]
}