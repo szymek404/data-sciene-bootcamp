{
  "nbformat": 4,
  "nbformat_minor": 0,
  "metadata": {
    "colab": {
      "provenance": [],
      "authorship_tag": "ABX9TyMBF6UBpNI3+ZD3oWRH1FBa",
      "include_colab_link": true
    },
    "kernelspec": {
      "name": "python3",
      "display_name": "Python 3"
    },
    "language_info": {
      "name": "python"
    }
  },
  "cells": [
    {
      "cell_type": "markdown",
      "metadata": {
        "id": "view-in-github",
        "colab_type": "text"
      },
      "source": [
        "<a href=\"https://colab.research.google.com/github/szymek404/data-sciene-bootcamp/blob/main/wprowadzenie/01numy_intro.ipynb\" target=\"_parent\"><img src=\"https://colab.research.google.com/assets/colab-badge.svg\" alt=\"Open In Colab\"/></a>"
      ]
    },
    {
      "cell_type": "code",
      "execution_count": 3,
      "metadata": {
        "colab": {
          "base_uri": "https://localhost:8080/",
          "height": 35
        },
        "id": "PA8DGLJLAQX0",
        "outputId": "f8af43b6-3b89-4242-9b60-0555d9f9c465"
      },
      "outputs": [
        {
          "output_type": "execute_result",
          "data": {
            "text/plain": [
              "'1.21.6'"
            ],
            "application/vnd.google.colaboratory.intrinsic+json": {
              "type": "string"
            }
          },
          "metadata": {},
          "execution_count": 3
        }
      ],
      "source": [
        "import numpy as np\n",
        "np.__version__\n"
      ]
    },
    {
      "cell_type": "code",
      "source": [
        "print(dir(np))"
      ],
      "metadata": {
        "id": "tgs4DEtnUiXb"
      },
      "execution_count": null,
      "outputs": []
    },
    {
      "cell_type": "markdown",
      "source": [],
      "metadata": {
        "id": "OnxkkJkiUiIO"
      }
    },
    {
      "cell_type": "code",
      "source": [
        "help(np.array)"
      ],
      "metadata": {
        "id": "Rr1Bs9mxAbw_"
      },
      "execution_count": null,
      "outputs": []
    },
    {
      "cell_type": "code",
      "source": [
        "x = np.array([1,3,])\n",
        "x\n",
        "type(x)"
      ],
      "metadata": {
        "id": "-lLMO2uaU7Q8",
        "outputId": "e25f73b9-eca7-4b23-ea78-2f09280428e9",
        "colab": {
          "base_uri": "https://localhost:8080/"
        }
      },
      "execution_count": 6,
      "outputs": [
        {
          "output_type": "execute_result",
          "data": {
            "text/plain": [
              "numpy.ndarray"
            ]
          },
          "metadata": {},
          "execution_count": 6
        }
      ]
    },
    {
      "cell_type": "code",
      "source": [
        "x.ndim\n"
      ],
      "metadata": {
        "id": "ktHv5strZJbr",
        "outputId": "c57ac52f-ed9c-4e88-ef0d-fa85dde8e9ac",
        "colab": {
          "base_uri": "https://localhost:8080/"
        }
      },
      "execution_count": 9,
      "outputs": [
        {
          "output_type": "execute_result",
          "data": {
            "text/plain": [
              "1"
            ]
          },
          "metadata": {},
          "execution_count": 9
        }
      ]
    },
    {
      "cell_type": "code",
      "source": [
        "x.shape\n",
        "x.size #liczba elemtnow"
      ],
      "metadata": {
        "id": "6aU6H8nuZH8k",
        "outputId": "2a382b73-5834-49ca-ed88-0dc0dd365974",
        "colab": {
          "base_uri": "https://localhost:8080/"
        }
      },
      "execution_count": 11,
      "outputs": [
        {
          "output_type": "execute_result",
          "data": {
            "text/plain": [
              "2"
            ]
          },
          "metadata": {},
          "execution_count": 11
        }
      ]
    },
    {
      "cell_type": "code",
      "source": [
        "x.dtype #sprawdzamy typ danych i co zabierają"
      ],
      "metadata": {
        "id": "b2LrchPFZZdM",
        "outputId": "53a58aa7-b4df-450d-88b5-b9c3edcabb55",
        "colab": {
          "base_uri": "https://localhost:8080/"
        }
      },
      "execution_count": 12,
      "outputs": [
        {
          "output_type": "execute_result",
          "data": {
            "text/plain": [
              "dtype('int64')"
            ]
          },
          "metadata": {},
          "execution_count": 12
        }
      ]
    },
    {
      "cell_type": "code",
      "source": [
        "x = np.array([1.3,2.3,1.4])"
      ],
      "metadata": {
        "id": "Urly_4_nZens"
      },
      "execution_count": 14,
      "outputs": []
    },
    {
      "cell_type": "code",
      "source": [
        "x.dtype"
      ],
      "metadata": {
        "id": "N8cdZ92sZqJs",
        "outputId": "664565b3-96a1-4f7b-9b5f-a22ef4fb133a",
        "colab": {
          "base_uri": "https://localhost:8080/"
        }
      },
      "execution_count": 15,
      "outputs": [
        {
          "output_type": "execute_result",
          "data": {
            "text/plain": [
              "dtype('float64')"
            ]
          },
          "metadata": {},
          "execution_count": 15
        }
      ]
    },
    {
      "cell_type": "code",
      "source": [
        "#tablice 2D domyslna interpretacja macierzy"
      ],
      "metadata": {
        "id": "8-MtrvcxZ1ub"
      },
      "execution_count": 16,
      "outputs": []
    },
    {
      "cell_type": "code",
      "source": [
        "y= np.array([[1,3],[1,4]])"
      ],
      "metadata": {
        "id": "CxjPn6xxZ5MT"
      },
      "execution_count": 21,
      "outputs": []
    },
    {
      "cell_type": "code",
      "source": [
        "y.ndim"
      ],
      "metadata": {
        "id": "40_W8l3_aAek",
        "outputId": "9f1d13d2-d97e-4853-c243-2f400a789468",
        "colab": {
          "base_uri": "https://localhost:8080/"
        }
      },
      "execution_count": 24,
      "outputs": [
        {
          "output_type": "execute_result",
          "data": {
            "text/plain": [
              "2"
            ]
          },
          "metadata": {},
          "execution_count": 24
        }
      ]
    },
    {
      "cell_type": "code",
      "source": [
        "y.shape"
      ],
      "metadata": {
        "id": "la9RBmZIaTIz",
        "outputId": "6de1d951-428c-4a86-ce9f-c57af8288b81",
        "colab": {
          "base_uri": "https://localhost:8080/"
        }
      },
      "execution_count": 25,
      "outputs": [
        {
          "output_type": "execute_result",
          "data": {
            "text/plain": [
              "(2, 2)"
            ]
          },
          "metadata": {},
          "execution_count": 25
        }
      ]
    },
    {
      "cell_type": "code",
      "source": [
        "x= np.array([[1,2,4,5],[1,3,4,5]])"
      ],
      "metadata": {
        "id": "IfjAjM9OaVCT"
      },
      "execution_count": 26,
      "outputs": []
    },
    {
      "cell_type": "code",
      "source": [
        "x.shape"
      ],
      "metadata": {
        "id": "5t5Ccp8CayEk",
        "outputId": "1099672b-3a8b-4b7a-dea1-858c820987cd",
        "colab": {
          "base_uri": "https://localhost:8080/"
        }
      },
      "execution_count": 27,
      "outputs": [
        {
          "output_type": "execute_result",
          "data": {
            "text/plain": [
              "(2, 4)"
            ]
          },
          "metadata": {},
          "execution_count": 27
        }
      ]
    },
    {
      "cell_type": "code",
      "source": [
        "# macierze trzy wymairowe 3D (dane i obraz)\n",
        "x= np.array(\n",
        "    [[[1, 4, 7],\n",
        "     [3, 8, 2]],\n",
        "     \n",
        "     [[4, 2, 7],\n",
        "      [4, 2, 1]],\n",
        "     \n",
        "     [[3, 4, 5],\n",
        "      [3, 6, 8]]]\n",
        ")\n",
        "x"
      ],
      "metadata": {
        "id": "eKqp2NW3azFE",
        "outputId": "f3cbded4-1c1a-48c3-8584-888d776af089",
        "colab": {
          "base_uri": "https://localhost:8080/"
        }
      },
      "execution_count": 4,
      "outputs": [
        {
          "output_type": "execute_result",
          "data": {
            "text/plain": [
              "array([[[1, 4, 7],\n",
              "        [3, 8, 2]],\n",
              "\n",
              "       [[4, 2, 7],\n",
              "        [4, 2, 1]],\n",
              "\n",
              "       [[3, 4, 5],\n",
              "        [3, 6, 8]]])"
            ]
          },
          "metadata": {},
          "execution_count": 4
        }
      ]
    },
    {
      "cell_type": "code",
      "source": [
        "x.ndim"
      ],
      "metadata": {
        "id": "UnOi_EOqa8U7",
        "outputId": "b5588dd3-3258-41a2-a3ec-2c3d28e956b6",
        "colab": {
          "base_uri": "https://localhost:8080/"
        }
      },
      "execution_count": 37,
      "outputs": [
        {
          "output_type": "execute_result",
          "data": {
            "text/plain": [
              "3"
            ]
          },
          "metadata": {},
          "execution_count": 37
        }
      ]
    },
    {
      "cell_type": "code",
      "source": [
        "x.shape"
      ],
      "metadata": {
        "id": "M8SCe1XhbaNb",
        "outputId": "6cb60a4e-1a99-4edd-dc7f-6e32ab50980d",
        "colab": {
          "base_uri": "https://localhost:8080/"
        }
      },
      "execution_count": 36,
      "outputs": [
        {
          "output_type": "execute_result",
          "data": {
            "text/plain": [
              "(3, 2, 3)"
            ]
          },
          "metadata": {},
          "execution_count": 36
        }
      ]
    },
    {
      "cell_type": "code",
      "source": [
        " A = np.array([1.0,2.3,3.3], dtype='int') #możemy ustawic typ danych\n",
        " A.dtype"
      ],
      "metadata": {
        "id": "FZtw0ndDbbBL",
        "outputId": "fce22076-2d31-4658-b06b-b395cc396c61",
        "colab": {
          "base_uri": "https://localhost:8080/"
        }
      },
      "execution_count": 10,
      "outputs": [
        {
          "output_type": "execute_result",
          "data": {
            "text/plain": [
              "dtype('int64')"
            ]
          },
          "metadata": {},
          "execution_count": 10
        }
      ]
    },
    {
      "cell_type": "code",
      "source": [
        "A= np.array([True, False])\n",
        "A.dtype"
      ],
      "metadata": {
        "id": "IzWvesEM3zJh",
        "outputId": "8b4a4ea5-dde3-49f4-9bc5-8211189a5a68",
        "colab": {
          "base_uri": "https://localhost:8080/"
        }
      },
      "execution_count": 14,
      "outputs": [
        {
          "output_type": "execute_result",
          "data": {
            "text/plain": [
              "dtype('bool')"
            ]
          },
          "metadata": {},
          "execution_count": 14
        }
      ]
    },
    {
      "cell_type": "code",
      "source": [
        "A = np.array([24,120,230], dtype= np.int8) # do obrazó żeby mniej zajomowała w pamięcie jak damu uint to jest unsigh int od 0 do 255\n",
        "A.dtype"
      ],
      "metadata": {
        "id": "UdDVsjCu4SPa",
        "outputId": "4c48cbb6-35a9-4eee-c3cb-fd2f1ebc93fb",
        "colab": {
          "base_uri": "https://localhost:8080/"
        }
      },
      "execution_count": 17,
      "outputs": [
        {
          "output_type": "execute_result",
          "data": {
            "text/plain": [
              "dtype('int8')"
            ]
          },
          "metadata": {},
          "execution_count": 17
        }
      ]
    },
    {
      "cell_type": "code",
      "source": [
        " np.zeros(shape=(4,10),dtype=int) #tablica zawalona zerami o dowolnbym kształcie np gdy chgcemy maski do zdjęć"
      ],
      "metadata": {
        "id": "qbMPlehj4fgB",
        "outputId": "36cd4387-f1f7-4bfb-cad9-608fbc6399bf",
        "colab": {
          "base_uri": "https://localhost:8080/"
        }
      },
      "execution_count": 20,
      "outputs": [
        {
          "output_type": "execute_result",
          "data": {
            "text/plain": [
              "array([[0, 0, 0, 0, 0, 0, 0, 0, 0, 0],\n",
              "       [0, 0, 0, 0, 0, 0, 0, 0, 0, 0],\n",
              "       [0, 0, 0, 0, 0, 0, 0, 0, 0, 0],\n",
              "       [0, 0, 0, 0, 0, 0, 0, 0, 0, 0]])"
            ]
          },
          "metadata": {},
          "execution_count": 20
        }
      ]
    },
    {
      "cell_type": "code",
      "source": [
        "np.ones(shape=(3,5), dtype =int)"
      ],
      "metadata": {
        "id": "gUYFrvd_4_Jp",
        "outputId": "f9143ba1-430a-49bd-f4aa-b8f0a3821362",
        "colab": {
          "base_uri": "https://localhost:8080/"
        }
      },
      "execution_count": 21,
      "outputs": [
        {
          "output_type": "execute_result",
          "data": {
            "text/plain": [
              "array([[1, 1, 1, 1, 1],\n",
              "       [1, 1, 1, 1, 1],\n",
              "       [1, 1, 1, 1, 1]])"
            ]
          },
          "metadata": {},
          "execution_count": 21
        }
      ]
    },
    {
      "cell_type": "code",
      "source": [
        "A = np.array([2,-3,1,4])\n",
        "B= np.array([3,-1,3,2])\n",
        "print(A, B)"
      ],
      "metadata": {
        "id": "XvMgM40S5aoh"
      },
      "execution_count": null,
      "outputs": []
    },
    {
      "cell_type": "code",
      "source": [
        "A*B # mnożenie dodawania i odejmowanie jest wykonywane po elementach, przy dzieleniu jest zawsze float"
      ],
      "metadata": {
        "id": "e4nT-if-eKJw",
        "outputId": "21606cef-8f63-4c08-cf7d-b3fa4028682e",
        "colab": {
          "base_uri": "https://localhost:8080/"
        }
      },
      "execution_count": 11,
      "outputs": [
        {
          "output_type": "execute_result",
          "data": {
            "text/plain": [
              "array([6, 3, 3, 8])"
            ]
          },
          "metadata": {},
          "execution_count": 11
        }
      ]
    },
    {
      "cell_type": "code",
      "source": [
        "np.add(A, B)\n",
        "np.subtract(A,B)"
      ],
      "metadata": {
        "id": "KFEaA2IjekkN",
        "outputId": "213524a1-1f5f-45c2-cbbf-258ea43cdf5e",
        "colab": {
          "base_uri": "https://localhost:8080/"
        }
      },
      "execution_count": 13,
      "outputs": [
        {
          "output_type": "execute_result",
          "data": {
            "text/plain": [
              "array([-1, -2, -2,  2])"
            ]
          },
          "metadata": {},
          "execution_count": 13
        }
      ]
    },
    {
      "cell_type": "code",
      "source": [
        "np.multiply(A,B)"
      ],
      "metadata": {
        "id": "P34Paxc0e8TA",
        "outputId": "e53c8dde-9ecd-4be4-c4d6-960793c569c3",
        "colab": {
          "base_uri": "https://localhost:8080/"
        }
      },
      "execution_count": 14,
      "outputs": [
        {
          "output_type": "execute_result",
          "data": {
            "text/plain": [
              "array([6, 3, 3, 8])"
            ]
          },
          "metadata": {},
          "execution_count": 14
        }
      ]
    },
    {
      "cell_type": "code",
      "source": [
        "np.subtract(A,B)"
      ],
      "metadata": {
        "id": "FX4SrKaLfD42",
        "outputId": "2576e47c-819d-4466-e90f-3a15742057d2",
        "colab": {
          "base_uri": "https://localhost:8080/"
        }
      },
      "execution_count": 15,
      "outputs": [
        {
          "output_type": "execute_result",
          "data": {
            "text/plain": [
              "array([-1, -2, -2,  2])"
            ]
          },
          "metadata": {},
          "execution_count": 15
        }
      ]
    },
    {
      "cell_type": "code",
      "source": [
        "#MNOŻENIE MACIERZOWE \n",
        "X= np.array([[1,3], [-2, 2]])\n",
        "Y= np.array([[0,2], [-1, 2]])\n",
        "print(X, '\\n')\n",
        "print(Y)"
      ],
      "metadata": {
        "id": "vYxpTu6tfIsm",
        "outputId": "6826a980-d446-46c5-df77-fd5559924983",
        "colab": {
          "base_uri": "https://localhost:8080/"
        }
      },
      "execution_count": 21,
      "outputs": [
        {
          "output_type": "stream",
          "name": "stdout",
          "text": [
            "[[ 1  3]\n",
            " [-2  2]] \n",
            "\n",
            "[[ 0  2]\n",
            " [-1  2]]\n"
          ]
        }
      ]
    },
    {
      "cell_type": "code",
      "source": [
        "X*Y"
      ],
      "metadata": {
        "id": "XFBmP3j0f7ia",
        "outputId": "470fccc3-cbc8-4432-81d9-a9dc845531e4",
        "colab": {
          "base_uri": "https://localhost:8080/"
        }
      },
      "execution_count": 22,
      "outputs": [
        {
          "output_type": "execute_result",
          "data": {
            "text/plain": [
              "array([[0, 6],\n",
              "       [2, 4]])"
            ]
          },
          "metadata": {},
          "execution_count": 22
        }
      ]
    },
    {
      "cell_type": "code",
      "source": [
        "np.dot(X,Y)"
      ],
      "metadata": {
        "id": "CjEh5PGnf95E",
        "outputId": "1931e2e0-1354-4826-9b4a-6b0c3b0458f5",
        "colab": {
          "base_uri": "https://localhost:8080/"
        }
      },
      "execution_count": 23,
      "outputs": [
        {
          "output_type": "execute_result",
          "data": {
            "text/plain": [
              "array([[-3,  8],\n",
              "       [-2,  0]])"
            ]
          },
          "metadata": {},
          "execution_count": 23
        }
      ]
    },
    {
      "cell_type": "markdown",
      "source": [],
      "metadata": {
        "id": "7x3iRvVkf7Ud"
      }
    },
    {
      "cell_type": "code",
      "source": [
        "X.dot(Y) #mnożenie macierzy nie jest przemienne!!"
      ],
      "metadata": {
        "id": "DZqqw42ggK9M",
        "outputId": "c53ef046-a6ce-4e9b-e098-29100f9e46af",
        "colab": {
          "base_uri": "https://localhost:8080/"
        }
      },
      "execution_count": 24,
      "outputs": [
        {
          "output_type": "execute_result",
          "data": {
            "text/plain": [
              "array([[-3,  8],\n",
              "       [-2,  0]])"
            ]
          },
          "metadata": {},
          "execution_count": 24
        }
      ]
    },
    {
      "cell_type": "code",
      "source": [
        "X @ Y #specjalny symbol"
      ],
      "metadata": {
        "id": "mlqfK6ffgSV5",
        "outputId": "189ed2b8-291b-4946-d9e1-6bf0db33b3c0",
        "colab": {
          "base_uri": "https://localhost:8080/"
        }
      },
      "execution_count": 25,
      "outputs": [
        {
          "output_type": "execute_result",
          "data": {
            "text/plain": [
              "array([[-3,  8],\n",
              "       [-2,  0]])"
            ]
          },
          "metadata": {},
          "execution_count": 25
        }
      ]
    },
    {
      "cell_type": "code",
      "source": [
        "np.random.seed(0) #liczby psedulosowe ustawiamy ziarno losowania, tak żeby wynik był powtarzalny"
      ],
      "metadata": {
        "id": "PnKVg4G-gYm1"
      },
      "execution_count": 28,
      "outputs": []
    },
    {
      "cell_type": "code",
      "source": [
        "np.random.randn() #losowy rozkład normalny, zwaraca losową wartośc z rozkładu normlane=go"
      ],
      "metadata": {
        "id": "q1_KXJbzhd7R",
        "outputId": "f7a06c5a-b80b-4c28-e6b2-3703e65ed382",
        "colab": {
          "base_uri": "https://localhost:8080/"
        }
      },
      "execution_count": 30,
      "outputs": [
        {
          "output_type": "execute_result",
          "data": {
            "text/plain": [
              "1.764052345967664"
            ]
          },
          "metadata": {},
          "execution_count": 30
        }
      ]
    },
    {
      "cell_type": "code",
      "source": [
        "np.random.randn(10) #TABLICA wskazujaca 10  losowo wybranych elementów z rozkładu normlanego standardowego (czyli srednia 0 i odchylenie sand. 1)"
      ],
      "metadata": {
        "id": "uHzw0F__htPY",
        "outputId": "d8cd9008-16c1-41c3-e151-17b54fe85c77",
        "colab": {
          "base_uri": "https://localhost:8080/"
        }
      },
      "execution_count": 31,
      "outputs": [
        {
          "output_type": "execute_result",
          "data": {
            "text/plain": [
              "array([ 0.40015721,  0.97873798,  2.2408932 ,  1.86755799, -0.97727788,\n",
              "        0.95008842, -0.15135721, -0.10321885,  0.4105985 ,  0.14404357])"
            ]
          },
          "metadata": {},
          "execution_count": 31
        }
      ]
    },
    {
      "cell_type": "code",
      "source": [
        "np.random.randn(10,4) #możemy tak zorbić histogramy 4- liczba kolumn,zmiennych; 10 -liczba propbek)"
      ],
      "metadata": {
        "id": "vicZqc-TiEDx",
        "outputId": "987fc094-86ac-4c1f-fce1-ef45c24c695a",
        "colab": {
          "base_uri": "https://localhost:8080/"
        }
      },
      "execution_count": 32,
      "outputs": [
        {
          "output_type": "execute_result",
          "data": {
            "text/plain": [
              "array([[ 1.45427351,  0.76103773,  0.12167502,  0.44386323],\n",
              "       [ 0.33367433,  1.49407907, -0.20515826,  0.3130677 ],\n",
              "       [-0.85409574, -2.55298982,  0.6536186 ,  0.8644362 ],\n",
              "       [-0.74216502,  2.26975462, -1.45436567,  0.04575852],\n",
              "       [-0.18718385,  1.53277921,  1.46935877,  0.15494743],\n",
              "       [ 0.37816252, -0.88778575, -1.98079647, -0.34791215],\n",
              "       [ 0.15634897,  1.23029068,  1.20237985, -0.38732682],\n",
              "       [-0.30230275, -1.04855297, -1.42001794, -1.70627019],\n",
              "       [ 1.9507754 , -0.50965218, -0.4380743 , -1.25279536],\n",
              "       [ 0.77749036, -1.61389785, -0.21274028, -0.89546656]])"
            ]
          },
          "metadata": {},
          "execution_count": 32
        }
      ]
    },
    {
      "cell_type": "code",
      "source": [
        "#rozkład jednosajny na przedziale, zwraca =wattość losową z zbioru (0,1)\n",
        "np.random.rand() #działa tak samo jak jak np.random.randn\n",
        "np.random.rand(5,2)"
      ],
      "metadata": {
        "id": "Go7aC_tliYow",
        "outputId": "f6257163-ce33-49df-e784-3eb1c000978b",
        "colab": {
          "base_uri": "https://localhost:8080/"
        }
      },
      "execution_count": 34,
      "outputs": [
        {
          "output_type": "execute_result",
          "data": {
            "text/plain": [
              "array([[0.82099323, 0.09710128],\n",
              "       [0.83794491, 0.09609841],\n",
              "       [0.97645947, 0.4686512 ],\n",
              "       [0.97676109, 0.60484552],\n",
              "       [0.73926358, 0.03918779]])"
            ]
          },
          "metadata": {},
          "execution_count": 34
        }
      ]
    },
    {
      "cell_type": "code",
      "source": [
        "# zwraca losową liczbę nieujemną całkowitą mniejsza od 10\n",
        "np.random.randint(10)"
      ],
      "metadata": {
        "id": "8TZOcrW_iwMJ",
        "outputId": "4e944b83-60ce-47c3-f513-238e98d5387c",
        "colab": {
          "base_uri": "https://localhost:8080/"
        }
      },
      "execution_count": 36,
      "outputs": [
        {
          "output_type": "execute_result",
          "data": {
            "text/plain": [
              "7"
            ]
          },
          "metadata": {},
          "execution_count": 36
        }
      ]
    },
    {
      "cell_type": "code",
      "source": [
        "np.random.randint(low=10, high= 101, size=5)      #low i high to jakby zakres przeziału z którego losujemy. parametr size daje to ile danyuch chemy "
      ],
      "metadata": {
        "id": "247JMR1-i_tm",
        "outputId": "e6a3cff9-53b3-4879-cd0e-85eeb4a0c8c9",
        "colab": {
          "base_uri": "https://localhost:8080/"
        }
      },
      "execution_count": 37,
      "outputs": [
        {
          "output_type": "execute_result",
          "data": {
            "text/plain": [
              "array([69, 12, 72, 45, 77])"
            ]
          },
          "metadata": {},
          "execution_count": 37
        }
      ]
    },
    {
      "cell_type": "code",
      "source": [
        "np.random.choice([4,2,1,34,5,2,5,]) #funkcja wybiera randomowo jeden element z obiektu interowalnego "
      ],
      "metadata": {
        "id": "4m70o1REjdrK",
        "outputId": "6362b289-7fbe-4bf8-a31c-94f47b884333",
        "colab": {
          "base_uri": "https://localhost:8080/"
        }
      },
      "execution_count": 39,
      "outputs": [
        {
          "output_type": "execute_result",
          "data": {
            "text/plain": [
              "5"
            ]
          },
          "metadata": {},
          "execution_count": 39
        }
      ]
    },
    {
      "cell_type": "code",
      "source": [
        "np.random.choice(['py','jaaa','sql']) # mozńa też teskt losowy wybrać"
      ],
      "metadata": {
        "id": "15RVsA10jpFg",
        "outputId": "9a672b34-cc18-4c79-f2d7-5103bc3ff35b",
        "colab": {
          "base_uri": "https://localhost:8080/",
          "height": 35
        }
      },
      "execution_count": 52,
      "outputs": [
        {
          "output_type": "execute_result",
          "data": {
            "text/plain": [
              "'py'"
            ],
            "application/vnd.google.colaboratory.intrinsic+json": {
              "type": "string"
            }
          },
          "metadata": {},
          "execution_count": 52
        }
      ]
    },
    {
      "cell_type": "code",
      "source": [
        "data = np.arange(10) # funckja arange tworzy listę liczb całkowitych po koleji od 0\n",
        "data"
      ],
      "metadata": {
        "id": "Cz55HQmIkEST",
        "outputId": "e5bc57c4-1c9d-49ec-a4ba-4f2608fc5edf",
        "colab": {
          "base_uri": "https://localhost:8080/"
        }
      },
      "execution_count": 54,
      "outputs": [
        {
          "output_type": "execute_result",
          "data": {
            "text/plain": [
              "array([0, 1, 2, 3, 4, 5, 6, 7, 8, 9])"
            ]
          },
          "metadata": {},
          "execution_count": 54
        }
      ]
    },
    {
      "cell_type": "code",
      "source": [
        "# gdy chcemy mieć przetasowane dane to jest funkcja shuiffle\n",
        "np.random.shuffle(data) #zmienia od razu zmianną data nie trzeba przypisywać\n",
        "data"
      ],
      "metadata": {
        "id": "_D9z5FwbkTMA",
        "outputId": "3340a77f-ca27-47ef-c951-f7e449e2601d",
        "colab": {
          "base_uri": "https://localhost:8080/"
        }
      },
      "execution_count": 56,
      "outputs": [
        {
          "output_type": "execute_result",
          "data": {
            "text/plain": [
              "array([2, 1, 4, 9, 8, 5, 7, 3, 0, 6])"
            ]
          },
          "metadata": {},
          "execution_count": 56
        }
      ]
    },
    {
      "cell_type": "code",
      "source": [
        "#podstawowe funkcje w numpy\n",
        "np.exp(1) #zwraca exponent \n",
        "np.sqrt(9) #zwraca pierwiastek kwadratowy , zawsze foat  zwraca"
      ],
      "metadata": {
        "id": "ntflQqs8knba",
        "outputId": "6572e9c6-41e7-4374-b2fd-e982117afa41",
        "colab": {
          "base_uri": "https://localhost:8080/"
        }
      },
      "execution_count": 58,
      "outputs": [
        {
          "output_type": "execute_result",
          "data": {
            "text/plain": [
              "3.0"
            ]
          },
          "metadata": {},
          "execution_count": 58
        }
      ]
    },
    {
      "cell_type": "code",
      "source": [
        "np.all([0,3,4,6]) #f all przechodiz po obiekcie iterowalnym i patrzy czy każdy element zwraca false czy true, jak kazdy zwruci true to funkcja zwraca true"
      ],
      "metadata": {
        "id": "c9d5UDASk8My",
        "outputId": "6d840f29-22dd-4bb6-c89e-9e17ceebbe49",
        "colab": {
          "base_uri": "https://localhost:8080/"
        }
      },
      "execution_count": 61,
      "outputs": [
        {
          "output_type": "execute_result",
          "data": {
            "text/plain": [
              "False"
            ]
          },
          "metadata": {},
          "execution_count": 61
        }
      ]
    },
    {
      "cell_type": "code",
      "source": [
        "np.any([0,0,0]) # sprawdza czy ktorykolwiek obiekt jest prawdą , FAŁSZ =0 ,czasem szukamy wiuersza z jakąś wartoscią"
      ],
      "metadata": {
        "id": "M9UjyggolP65",
        "outputId": "28887a41-ee4a-4012-9b6f-a7496a1392e2",
        "colab": {
          "base_uri": "https://localhost:8080/"
        }
      },
      "execution_count": 62,
      "outputs": [
        {
          "output_type": "execute_result",
          "data": {
            "text/plain": [
              "False"
            ]
          },
          "metadata": {},
          "execution_count": 62
        }
      ]
    },
    {
      "cell_type": "code",
      "source": [
        "bool(0) #funckja zwraca wartośc logiczną"
      ],
      "metadata": {
        "id": "P8PI5xkrsmaF",
        "outputId": "7c033e09-cfc8-43fd-af5f-395680da4cf1",
        "colab": {
          "base_uri": "https://localhost:8080/"
        }
      },
      "execution_count": 63,
      "outputs": [
        {
          "output_type": "execute_result",
          "data": {
            "text/plain": [
              "False"
            ]
          },
          "metadata": {},
          "execution_count": 63
        }
      ]
    },
    {
      "cell_type": "code",
      "source": [
        "A= np.random.rand(5) # zakładamy ze to prawdopodobieństwo otrzymamania kalsy dla danej próbki probelm klasyfikacji\n",
        "A\n",
        "#musimy znaleść ideks gdzie dostaniemy największą wartość"
      ],
      "metadata": {
        "id": "WhoaTf4xsuVt",
        "outputId": "674b9ca2-53c1-4767-8ab3-090b14d8216a",
        "colab": {
          "base_uri": "https://localhost:8080/"
        }
      },
      "execution_count": 78,
      "outputs": [
        {
          "output_type": "execute_result",
          "data": {
            "text/plain": [
              "array([0.5356328 , 0.58990998, 0.73012203, 0.311945  , 0.39822106])"
            ]
          },
          "metadata": {},
          "execution_count": 78
        }
      ]
    },
    {
      "cell_type": "code",
      "source": [
        "np.argmax(A) #pokazuje indeks najwiękej wartości\n",
        "np.argmin(A) # najmnijesza wartość"
      ],
      "metadata": {
        "id": "0T4mSQeHtgIT",
        "outputId": "f7e31f4a-a484-41d2-cade-c205e3bc03ea",
        "colab": {
          "base_uri": "https://localhost:8080/"
        }
      },
      "execution_count": 82,
      "outputs": [
        {
          "output_type": "execute_result",
          "data": {
            "text/plain": [
              "3"
            ]
          },
          "metadata": {},
          "execution_count": 82
        }
      ]
    },
    {
      "cell_type": "code",
      "source": [
        "A[np.argmax(A)] #wycinamy największa wartości"
      ],
      "metadata": {
        "id": "S6qeRA3atpvs",
        "outputId": "07da9352-69a5-4936-a918-2d96cf8d4a92",
        "colab": {
          "base_uri": "https://localhost:8080/"
        }
      },
      "execution_count": 80,
      "outputs": [
        {
          "output_type": "execute_result",
          "data": {
            "text/plain": [
              "0.7301220295167696"
            ]
          },
          "metadata": {},
          "execution_count": 80
        }
      ]
    },
    {
      "cell_type": "code",
      "source": [
        "np.argsort(A) # sortuje elementy odająć indeksy, od najmnijeszej do największej, np pry prawdopodobienstwie jak chcemy wziąc  3 najbardziej prawd. klasy"
      ],
      "metadata": {
        "id": "EiGizBmyt78f",
        "outputId": "1c7b7331-c432-4993-a37c-b9f8ef929f5e",
        "colab": {
          "base_uri": "https://localhost:8080/"
        }
      },
      "execution_count": 83,
      "outputs": [
        {
          "output_type": "execute_result",
          "data": {
            "text/plain": [
              "array([3, 4, 0, 1, 2])"
            ]
          },
          "metadata": {},
          "execution_count": 83
        }
      ]
    },
    {
      "cell_type": "code",
      "source": [
        "np.max(A)\n",
        "np.min(A) #wartośći największe i najmniejsze\n",
        "np.mean(A) #srednia\n",
        "np.median(A) # mediana\n",
        "np.std(A) # odchylenie standardowe"
      ],
      "metadata": {
        "id": "YOnNDOjIuEYa",
        "outputId": "be75a227-b371-4402-f471-c16a195d1fb9",
        "colab": {
          "base_uri": "https://localhost:8080/"
        }
      },
      "execution_count": 84,
      "outputs": [
        {
          "output_type": "execute_result",
          "data": {
            "text/plain": [
              "0.14640119211997493"
            ]
          },
          "metadata": {},
          "execution_count": 84
        }
      ]
    },
    {
      "cell_type": "code",
      "source": [
        "#IDEKSOWANIE< wycienanie danych \n",
        "B= np.arange(20)\n",
        "B"
      ],
      "metadata": {
        "id": "rlf9eAqmua-K",
        "outputId": "67fe70fb-2b69-44cc-98ea-0e1314effd28",
        "colab": {
          "base_uri": "https://localhost:8080/"
        }
      },
      "execution_count": 85,
      "outputs": [
        {
          "output_type": "execute_result",
          "data": {
            "text/plain": [
              "array([ 0,  1,  2,  3,  4,  5,  6,  7,  8,  9, 10, 11, 12, 13, 14, 15, 16,\n",
              "       17, 18, 19])"
            ]
          },
          "metadata": {},
          "execution_count": 85
        }
      ]
    },
    {
      "cell_type": "code",
      "source": [
        "#tak można wycinać - konkretny ideks A[idx]; Przedział ideksów A[start:stop]; Konkretny Koniec  A[:stop];    Konkrenty Początek A[start:]"
      ],
      "metadata": {
        "id": "lDxW_p9auwgd"
      },
      "execution_count": 86,
      "outputs": []
    },
    {
      "cell_type": "code",
      "source": [
        "B[2:7]\n",
        "B[:9] # mozną tez ideksowac od końca strosując liczby ujemne \n",
        "print(B[-6:-1])"
      ],
      "metadata": {
        "id": "Hj_3sQ-MvLbX",
        "outputId": "0f35efeb-07b7-485d-90f6-4cc7c502f3f8",
        "colab": {
          "base_uri": "https://localhost:8080/"
        }
      },
      "execution_count": 94,
      "outputs": [
        {
          "output_type": "stream",
          "name": "stdout",
          "text": [
            "[14 15 16 17 18]\n"
          ]
        }
      ]
    },
    {
      "cell_type": "code",
      "source": [
        "B= B.reshape(4,5)\n",
        "B\n"
      ],
      "metadata": {
        "id": "VEs0vSHZvxxn",
        "outputId": "bcdbfb4e-4d67-4d3d-a45e-085b7c9830e3",
        "colab": {
          "base_uri": "https://localhost:8080/"
        }
      },
      "execution_count": 100,
      "outputs": [
        {
          "output_type": "execute_result",
          "data": {
            "text/plain": [
              "array([[ 0,  1,  2,  3,  4],\n",
              "       [ 5,  6,  7,  8,  9],\n",
              "       [10, 11, 12, 13, 14],\n",
              "       [15, 16, 17, 18, 19]])"
            ]
          },
          "metadata": {},
          "execution_count": 100
        }
      ]
    },
    {
      "cell_type": "code",
      "source": [
        "B[0,:]"
      ],
      "metadata": {
        "id": "ClLA2iZzwIcr",
        "outputId": "f4fe3812-08fe-4e4e-af84-ac7a285c1607",
        "colab": {
          "base_uri": "https://localhost:8080/"
        }
      },
      "execution_count": 101,
      "outputs": [
        {
          "output_type": "execute_result",
          "data": {
            "text/plain": [
              "array([0, 1, 2, 3, 4])"
            ]
          },
          "metadata": {},
          "execution_count": 101
        }
      ]
    },
    {
      "cell_type": "code",
      "source": [
        "B[:,1] #wycinay kolumne"
      ],
      "metadata": {
        "id": "2NRGa8zhv-Gx",
        "outputId": "fcc1b3cb-206f-4d64-966e-4e9a9ce14021",
        "colab": {
          "base_uri": "https://localhost:8080/"
        }
      },
      "execution_count": 99,
      "outputs": [
        {
          "output_type": "execute_result",
          "data": {
            "text/plain": [
              "array([ 1,  6, 11, 16])"
            ]
          },
          "metadata": {},
          "execution_count": 99
        }
      ]
    },
    {
      "cell_type": "code",
      "source": [
        "B[1,1]"
      ],
      "metadata": {
        "id": "iyDOVu_RwEKC",
        "outputId": "ea17d57b-770a-4490-b470-42ae1c1945fc",
        "colab": {
          "base_uri": "https://localhost:8080/"
        }
      },
      "execution_count": 102,
      "outputs": [
        {
          "output_type": "execute_result",
          "data": {
            "text/plain": [
              "6"
            ]
          },
          "metadata": {},
          "execution_count": 102
        }
      ]
    },
    {
      "cell_type": "code",
      "source": [
        "B[1:3, 1:4]"
      ],
      "metadata": {
        "id": "5KWjpk6RxJxj",
        "outputId": "7d035357-63b6-452b-a5a8-0419b248c627",
        "colab": {
          "base_uri": "https://localhost:8080/"
        }
      },
      "execution_count": 105,
      "outputs": [
        {
          "output_type": "execute_result",
          "data": {
            "text/plain": [
              "array([[ 6,  7,  8],\n",
              "       [11, 12, 13]])"
            ]
          },
          "metadata": {},
          "execution_count": 105
        }
      ]
    },
    {
      "cell_type": "code",
      "source": [
        "B[1,2]= 14  #wycina nam 7 i zamienia na 14\n",
        "A"
      ],
      "metadata": {
        "id": "E92MZ22jyC0q",
        "outputId": "50b69d53-0010-4d61-e0b7-be61c233107e",
        "colab": {
          "base_uri": "https://localhost:8080/"
        }
      },
      "execution_count": 110,
      "outputs": [
        {
          "output_type": "execute_result",
          "data": {
            "text/plain": [
              "array([0.5356328 , 0.58990998, 0.73012203, 0.311945  , 0.39822106])"
            ]
          },
          "metadata": {},
          "execution_count": 110
        }
      ]
    },
    {
      "cell_type": "code",
      "source": [
        "#ITERACJA PO TABLICACH"
      ],
      "metadata": {
        "id": "-iJzCDDKyaqz"
      },
      "execution_count": null,
      "outputs": []
    },
    {
      "cell_type": "code",
      "source": [
        "A = np.arange(20, dtype = int)\n",
        "A= A.reshape(4,5) #co zrobić jak mam 15 elemtów i chcę dodać 0 tam gdzie nie am nic\n",
        "for row in A:\n",
        "  print(row)"
      ],
      "metadata": {
        "id": "BtztAmbMzZZV",
        "outputId": "376cd7bc-56d7-4417-828f-b948fed8f6a0",
        "colab": {
          "base_uri": "https://localhost:8080/"
        }
      },
      "execution_count": 120,
      "outputs": [
        {
          "output_type": "stream",
          "name": "stdout",
          "text": [
            "[0 1 2 3 4]\n",
            "[5 6 7 8 9]\n",
            "[10 11 12 13 14]\n",
            "[15 16 17 18 19]\n"
          ]
        }
      ]
    },
    {
      "cell_type": "code",
      "source": [
        "for row in A:\n",
        "  print(row[1:4])"
      ],
      "metadata": {
        "id": "dI_7HW3H0Ikn",
        "outputId": "d3a8bc34-51c9-4114-fadd-e10d28375d67",
        "colab": {
          "base_uri": "https://localhost:8080/"
        }
      },
      "execution_count": 123,
      "outputs": [
        {
          "output_type": "stream",
          "name": "stdout",
          "text": [
            "[1 2 3]\n",
            "[6 7 8]\n",
            "[11 12 13]\n",
            "[16 17 18]\n"
          ]
        }
      ]
    },
    {
      "cell_type": "code",
      "source": [
        "#po każdym elemencje używami flat co wypłaszcza talice i możemy itrerować element po elemenie\n",
        "\n",
        "for item in A.flat:\n",
        "  print(item)"
      ],
      "metadata": {
        "id": "PlaKwIlK0TA_",
        "outputId": "966377f7-c88a-4e73-ed73-255f6c2ac53f",
        "colab": {
          "base_uri": "https://localhost:8080/"
        }
      },
      "execution_count": 124,
      "outputs": [
        {
          "output_type": "stream",
          "name": "stdout",
          "text": [
            "0\n",
            "1\n",
            "2\n",
            "3\n",
            "4\n",
            "5\n",
            "6\n",
            "7\n",
            "8\n",
            "9\n",
            "10\n",
            "11\n",
            "12\n",
            "13\n",
            "14\n",
            "15\n",
            "16\n",
            "17\n",
            "18\n",
            "19\n"
          ]
        }
      ]
    },
    {
      "cell_type": "code",
      "source": [
        "#ZMIANA rozmiaru tablice\n",
        "A.shape"
      ],
      "metadata": {
        "id": "BN1kSGwR0lDS",
        "outputId": "855c5d2f-5a76-4003-f554-86753d1750ea",
        "colab": {
          "base_uri": "https://localhost:8080/"
        }
      },
      "execution_count": 125,
      "outputs": [
        {
          "output_type": "execute_result",
          "data": {
            "text/plain": [
              "(4, 5)"
            ]
          },
          "metadata": {},
          "execution_count": 125
        }
      ]
    },
    {
      "cell_type": "code",
      "source": [
        "A.reshape(5,4)"
      ],
      "metadata": {
        "id": "2Dh_xKYZ0oJq",
        "outputId": "0bacb01d-cfc0-47fc-b8fa-61fdc02e3691",
        "colab": {
          "base_uri": "https://localhost:8080/"
        }
      },
      "execution_count": 126,
      "outputs": [
        {
          "output_type": "execute_result",
          "data": {
            "text/plain": [
              "array([[ 0,  1,  2,  3],\n",
              "       [ 4,  5,  6,  7],\n",
              "       [ 8,  9, 10, 11],\n",
              "       [12, 13, 14, 15],\n",
              "       [16, 17, 18, 19]])"
            ]
          },
          "metadata": {},
          "execution_count": 126
        }
      ]
    },
    {
      "cell_type": "code",
      "source": [
        "#metoda ravel jest ODWROTNA DO RESHAPE\n",
        "A.ravel()"
      ],
      "metadata": {
        "id": "cNBQtpJt0tS3",
        "outputId": "da1f6103-57ae-4bb0-9eb0-a4f399f6e4a6",
        "colab": {
          "base_uri": "https://localhost:8080/"
        }
      },
      "execution_count": 127,
      "outputs": [
        {
          "output_type": "execute_result",
          "data": {
            "text/plain": [
              "array([ 0,  1,  2,  3,  4,  5,  6,  7,  8,  9, 10, 11, 12, 13, 14, 15, 16,\n",
              "       17, 18, 19])"
            ]
          },
          "metadata": {},
          "execution_count": 127
        }
      ]
    },
    {
      "cell_type": "code",
      "source": [
        "#transponowanie tablicy robimy tak \n",
        "A.T"
      ],
      "metadata": {
        "id": "6m8CfIms00Di",
        "outputId": "abcfcbe9-59c9-45ef-eb8f-f807ec57cbb5",
        "colab": {
          "base_uri": "https://localhost:8080/"
        }
      },
      "execution_count": 128,
      "outputs": [
        {
          "output_type": "execute_result",
          "data": {
            "text/plain": [
              "array([[ 0,  5, 10, 15],\n",
              "       [ 1,  6, 11, 16],\n",
              "       [ 2,  7, 12, 17],\n",
              "       [ 3,  8, 13, 18],\n",
              "       [ 4,  9, 14, 19]])"
            ]
          },
          "metadata": {},
          "execution_count": 128
        }
      ]
    },
    {
      "cell_type": "code",
      "source": [
        "# Maski logiczne\n",
        "A =np.arange(start= -10, stop=10, step =0.5)\n",
        "A = A.reshape(10,-1) # JAK  W RESHAPE DAMY -1 to samo liczy ile kolumn \n",
        "A"
      ],
      "metadata": {
        "id": "0izoYuVU06zS",
        "outputId": "83631215-b320-4e67-b8ec-9a2d579b2116",
        "colab": {
          "base_uri": "https://localhost:8080/"
        }
      },
      "execution_count": 137,
      "outputs": [
        {
          "output_type": "execute_result",
          "data": {
            "text/plain": [
              "array([[-10. ,  -9.5,  -9. ,  -8.5],\n",
              "       [ -8. ,  -7.5,  -7. ,  -6.5],\n",
              "       [ -6. ,  -5.5,  -5. ,  -4.5],\n",
              "       [ -4. ,  -3.5,  -3. ,  -2.5],\n",
              "       [ -2. ,  -1.5,  -1. ,  -0.5],\n",
              "       [  0. ,   0.5,   1. ,   1.5],\n",
              "       [  2. ,   2.5,   3. ,   3.5],\n",
              "       [  4. ,   4.5,   5. ,   5.5],\n",
              "       [  6. ,   6.5,   7. ,   7.5],\n",
              "       [  8. ,   8.5,   9. ,   9.5]])"
            ]
          },
          "metadata": {},
          "execution_count": 137
        }
      ]
    },
    {
      "cell_type": "code",
      "source": [
        "#chcemy wiedzieć gdzie są liczby ujemne, możemy to sprawdzić czymś takim A>0\n",
        "A>0"
      ],
      "metadata": {
        "id": "nwXluq6I1GHL",
        "outputId": "8fc1ffb6-6c23-4be0-d05f-1abea1d0d6e3",
        "colab": {
          "base_uri": "https://localhost:8080/"
        }
      },
      "execution_count": 138,
      "outputs": [
        {
          "output_type": "execute_result",
          "data": {
            "text/plain": [
              "array([[False, False, False, False],\n",
              "       [False, False, False, False],\n",
              "       [False, False, False, False],\n",
              "       [False, False, False, False],\n",
              "       [False, False, False, False],\n",
              "       [False,  True,  True,  True],\n",
              "       [ True,  True,  True,  True],\n",
              "       [ True,  True,  True,  True],\n",
              "       [ True,  True,  True,  True],\n",
              "       [ True,  True,  True,  True]])"
            ]
          },
          "metadata": {},
          "execution_count": 138
        }
      ]
    },
    {
      "cell_type": "code",
      "source": [
        "A[A>0] # dostajemy tylko to co jest dodanie i wartość True"
      ],
      "metadata": {
        "id": "q2gHNAGS1315",
        "outputId": "dbe00581-7197-4d56-edbc-99218a12db5d",
        "colab": {
          "base_uri": "https://localhost:8080/"
        }
      },
      "execution_count": 140,
      "outputs": [
        {
          "output_type": "execute_result",
          "data": {
            "text/plain": [
              "array([0.5, 1. , 1.5, 2. , 2.5, 3. , 3.5, 4. , 4.5, 5. , 5.5, 6. , 6.5,\n",
              "       7. , 7.5, 8. , 8.5, 9. , 9.5])"
            ]
          },
          "metadata": {},
          "execution_count": 140
        }
      ]
    },
    {
      "cell_type": "code",
      "source": [
        "A[A>-5 and A< 5] # tak nie wolno zrobić"
      ],
      "metadata": {
        "id": "WFYVoi8k2AwK",
        "outputId": "6f34cb26-99df-4ae5-d0e7-893a54e25a45",
        "colab": {
          "base_uri": "https://localhost:8080/",
          "height": 166
        }
      },
      "execution_count": 141,
      "outputs": [
        {
          "output_type": "error",
          "ename": "ValueError",
          "evalue": "ignored",
          "traceback": [
            "\u001b[0;31m---------------------------------------------------------------------------\u001b[0m",
            "\u001b[0;31mValueError\u001b[0m                                Traceback (most recent call last)",
            "\u001b[0;32m<ipython-input-141-38b8589bc51a>\u001b[0m in \u001b[0;36m<module>\u001b[0;34m\u001b[0m\n\u001b[0;32m----> 1\u001b[0;31m \u001b[0mA\u001b[0m\u001b[0;34m[\u001b[0m\u001b[0mA\u001b[0m\u001b[0;34m>\u001b[0m\u001b[0;34m-\u001b[0m\u001b[0;36m5\u001b[0m \u001b[0;32mand\u001b[0m \u001b[0mA\u001b[0m\u001b[0;34m<\u001b[0m \u001b[0;36m5\u001b[0m\u001b[0;34m]\u001b[0m\u001b[0;34m\u001b[0m\u001b[0;34m\u001b[0m\u001b[0m\n\u001b[0m",
            "\u001b[0;31mValueError\u001b[0m: The truth value of an array with more than one element is ambiguous. Use a.any() or a.all()"
          ]
        }
      ]
    },
    {
      "cell_type": "code",
      "source": [
        "np.bitwise_and(A>-5, A<5) #tutaj musimy użyć tej fukncji bo tak"
      ],
      "metadata": {
        "id": "DOB8zjN-2HcZ",
        "outputId": "20f56252-b59f-4939-b176-5976d8e29607",
        "colab": {
          "base_uri": "https://localhost:8080/"
        }
      },
      "execution_count": 142,
      "outputs": [
        {
          "output_type": "execute_result",
          "data": {
            "text/plain": [
              "array([[False, False, False, False],\n",
              "       [False, False, False, False],\n",
              "       [False, False, False,  True],\n",
              "       [ True,  True,  True,  True],\n",
              "       [ True,  True,  True,  True],\n",
              "       [ True,  True,  True,  True],\n",
              "       [ True,  True,  True,  True],\n",
              "       [ True,  True, False, False],\n",
              "       [False, False, False, False],\n",
              "       [False, False, False, False]])"
            ]
          },
          "metadata": {},
          "execution_count": 142
        }
      ]
    },
    {
      "cell_type": "code",
      "source": [
        "A[np.bitwise_and(A>-5, A<5)]"
      ],
      "metadata": {
        "id": "btuxGVso2WIs",
        "outputId": "7297f6ec-7275-4d43-f443-66ec19a44a5e",
        "colab": {
          "base_uri": "https://localhost:8080/"
        }
      },
      "execution_count": 144,
      "outputs": [
        {
          "output_type": "execute_result",
          "data": {
            "text/plain": [
              "array([-4.5, -4. , -3.5, -3. , -2.5, -2. , -1.5, -1. , -0.5,  0. ,  0.5,\n",
              "        1. ,  1.5,  2. ,  2.5,  3. ,  3.5,  4. ,  4.5])"
            ]
          },
          "metadata": {},
          "execution_count": 144
        }
      ]
    },
    {
      "cell_type": "code",
      "source": [
        "#mamy też not or itp czyli logike\n",
        "\n",
        "np.bitwise_or( A<- 5, A >5)"
      ],
      "metadata": {
        "id": "dfVW6IAu2elm",
        "outputId": "0cf0b394-d3b1-4880-bf5b-bd8278d3a4f8",
        "colab": {
          "base_uri": "https://localhost:8080/"
        }
      },
      "execution_count": 145,
      "outputs": [
        {
          "output_type": "execute_result",
          "data": {
            "text/plain": [
              "array([[ True,  True,  True,  True],\n",
              "       [ True,  True,  True,  True],\n",
              "       [ True,  True, False, False],\n",
              "       [False, False, False, False],\n",
              "       [False, False, False, False],\n",
              "       [False, False, False, False],\n",
              "       [False, False, False, False],\n",
              "       [False, False, False,  True],\n",
              "       [ True,  True,  True,  True],\n",
              "       [ True,  True,  True,  True]])"
            ]
          },
          "metadata": {},
          "execution_count": 145
        }
      ]
    }
  ]
}